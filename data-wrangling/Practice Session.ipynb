{
 "cells": [
  {
   "cell_type": "code",
   "execution_count": 1,
   "id": "7574a4df",
   "metadata": {},
   "outputs": [],
   "source": [
    "import requests\n",
    "import os\n",
    "import pandas as pd\n",
    "from bs4 import BeautifulSoup"
   ]
  },
  {
   "cell_type": "code",
   "execution_count": 2,
   "id": "7023d946",
   "metadata": {},
   "outputs": [],
   "source": [
    "urls = ['https://www.hotnigerianjobs.com/hotjobs/462055/data-analyst-at-preston-associates-international-d.html', \n",
    "        'https://www.hotnigerianjobs.com/hotjobs/462046/data-analyst-at-preston-associates-international-d.html', \n",
    "        'https://www.hotnigerianjobs.com/hotjobs/461441/data-analyst-at-palladium-group.html', \n",
    "        'https://www.hotnigerianjobs.com/hotjobs/461194/data-analyst-at-georgetown-global-health-nigeria-g.html', \n",
    "        'https://www.hotnigerianjobs.com/hotjobs/461094/hr-data-analyst-at-the-opec-fund-for-international.html', \n",
    "        'https://www.hotnigerianjobs.com/hotjobs/460457/data-analyst-intern-at-smartflow-technologies.html', \n",
    "        'https://www.hotnigerianjobs.com/hotjobs/460273/data-analyst-at-maersk-line.html', \n",
    "        'https://www.hotnigerianjobs.com/hotjobs/460069/data-analyst-at-an-advertising-firm-prowedge-limit.html', \n",
    "        'https://www.hotnigerianjobs.com/hotjobs/460009/data-analyst-at-growth-in-value-alliance-gva-partn.html', \n",
    "        'https://www.hotnigerianjobs.com/hotjobs/459793/data-analyst-and-qa-intern-at-smartflow-technologi.html', \n",
    "        'https://www.hotnigerianjobs.com/hotjobs/459759/data-analyst-at-sundry-foods-limited.html', \n",
    "        'https://www.hotnigerianjobs.com/hotjobs/459753/business-analyst-data-analyst-at-lonadek-explorati.html', \n",
    "        'https://www.hotnigerianjobs.com/hotjobs/458392/data-analyst-at-firstwatt-renewable-limited.html'  ]"
   ]
  },
  {
   "cell_type": "code",
   "execution_count": 22,
   "id": "4d6407ad",
   "metadata": {},
   "outputs": [
    {
     "name": "stdout",
     "output_type": "stream",
     "text": [
      "Data Analyst at Preston Associates International Development (PAID) | HotNigerianJobs\n",
      "None\n"
     ]
    }
   ],
   "source": [
    "for url in urls:\n",
    "    response = requests.get(url)\n",
    "    soup = BeautifulSoup(response.content)\n",
    "    print(soup.find('title').contents[0])\n",
    "    print(soup.find('description'))\n",
    "    \n",
    "    break"
   ]
  },
  {
   "cell_type": "code",
   "execution_count": null,
   "id": "9b701def",
   "metadata": {},
   "outputs": [],
   "source": []
  }
 ],
 "metadata": {
  "kernelspec": {
   "display_name": "Python 3 (ipykernel)",
   "language": "python",
   "name": "python3"
  },
  "language_info": {
   "codemirror_mode": {
    "name": "ipython",
    "version": 3
   },
   "file_extension": ".py",
   "mimetype": "text/x-python",
   "name": "python",
   "nbconvert_exporter": "python",
   "pygments_lexer": "ipython3",
   "version": "3.7.6"
  }
 },
 "nbformat": 4,
 "nbformat_minor": 5
}
